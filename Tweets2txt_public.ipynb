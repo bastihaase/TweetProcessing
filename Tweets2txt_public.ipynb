{
 "cells": [
  {
   "cell_type": "markdown",
   "metadata": {},
   "source": [
    "In this jupyter notebook, we will learn how to download tweets from twitter into a txt file. The goal is to write a function that takes a userid and then saves all of that user's tweets in a text file. We will then, in a different notebook, use this data for natural language processing."
   ]
  },
  {
   "cell_type": "code",
   "execution_count": null,
   "metadata": {},
   "outputs": [],
   "source": [
    "from twython import Twython, TwythonError\n",
    "import io\n",
    "import nltk # nltk provides functions to remove stop words\n",
    "import nltk\n",
    "nltk.download('stopwords')\n",
    "from nltk.corpus import stopwords\n",
    "from nltk.tokenize import word_tokenize\n",
    "import re # for regular expression to remove emoji\n",
    "import validators as vd # to remove urls\n",
    "from stemming.porter2 import stem # for stemming"
   ]
  },
  {
   "cell_type": "code",
   "execution_count": null,
   "metadata": {},
   "outputs": [],
   "source": [
    "APP_KEY = 'fill_in_your_own'\n",
    "APP_SECRET = 'fill_in_your_own'\n",
    "OAUTH_TOKEN = 'fill_in_your_own'\n",
    "OAUTH_TOKEN_SECRET = 'fill_in_your_own'\n",
    "twitter = Twython(APP_KEY, APP_SECRET, OAUTH_TOKEN, OAUTH_TOKEN_SECRET)"
   ]
  },
  {
   "cell_type": "code",
   "execution_count": null,
   "metadata": {},
   "outputs": [],
   "source": [
    "USERNAME = 'swish41'"
   ]
  },
  {
   "cell_type": "markdown",
   "metadata": {},
   "source": [
    "We now download the timeline of the user and then save all tweets in text file. For this, we have to remove all emojis; we dont want them anyway and they cause troubles when saving"
   ]
  },
  {
   "cell_type": "code",
   "execution_count": null,
   "metadata": {},
   "outputs": [],
   "source": [
    "user_timeline = list()\n",
    "\n",
    "\n",
    "try:\n",
    "    user_timeline.extend(twitter.get_user_timeline(screen_name=USERNAME, count = 200))\n",
    "except TwythonError as e:\n",
    "    print(e)\n",
    "\n",
    "number_of_calls = 1\n",
    "length = len(user_timeline)\n",
    "current_max = user_timeline[length-1][\"id\"]    \n",
    "current_batch = twitter.get_user_timeline(screen_name=USERNAME, max_id = current_max, count = 200)\n",
    "while current_batch != [] and number_of_calls < 900:\n",
    "    print(number_of_calls)\n",
    "    user_timeline.extend(current_batch)\n",
    "    length = len(current_batch)\n",
    "    current_max = current_batch[length-1][\"id\"]\n",
    "    try:\n",
    "        current_batch = twitter.get_user_timeline(screen_name=USERNAME, max_id = current_max, count = 200)\n",
    "    except TwythonError as e:\n",
    "        print(e)\n",
    "    number_of_calls += 1\n",
    "\n"
   ]
  },
  {
   "cell_type": "code",
   "execution_count": null,
   "metadata": {},
   "outputs": [],
   "source": [
    "print(len(user_timeline)) "
   ]
  },
  {
   "cell_type": "code",
   "execution_count": null,
   "metadata": {},
   "outputs": [],
   "source": [
    "   \n",
    "def remove_emoji(line):\n",
    "    NON_BMP_RE = re.compile(u\"[^\\U00000000-\\U0000d7ff\\U0000e000-\\U0000ffff]\", flags=re.UNICODE)\n",
    "    return NON_BMP_RE.sub(u'', line)\n",
    "    \n",
    "    \n",
    "def save_tweets(timeline, filename):\n",
    "    file = open(filename, 'w')\n",
    "    number_of_tweets = len(timeline)\n",
    "    for i in range(0, number_of_tweets -1):\n",
    "        tweet = remove_emoji(timeline[i][\"text\"])\n",
    "        file.write(tweet)\n",
    "        file.write(\" \")\n",
    "    file.close()\n",
    "    \n",
    "    \n",
    "save_tweets(user_timeline, 'tweets.txt')\n",
    "    "
   ]
  },
  {
   "cell_type": "markdown",
   "metadata": {},
   "source": [
    "Preprocessing: We will now implement stop word elimination as well as link elimination and stemming"
   ]
  },
  {
   "cell_type": "code",
   "execution_count": null,
   "metadata": {},
   "outputs": [],
   "source": [
    "def preprocessing_line(line):\n",
    "    stop_words = set(stopwords.words('english'))\n",
    "    #line = remove_emoji(line)\n",
    "    words = line.split()\n",
    "    output = \"\"\n",
    "    for r in words:\n",
    "        if (not r in stop_words) and  (not vd.url(r)):\n",
    "            output += \" \"\n",
    "            output += stem(r)\n",
    "    output += \".\"\n",
    "    return output\n",
    "            \n",
    "            \n",
    "def preprocessing(filename):\n",
    "    file = open(filename)\n",
    "    output = open('filtered.txt','w')\n",
    "    for line in file:\n",
    "        output.write(preprocessing_line(line))\n",
    "    output.close()\n",
    "    file.close()\n",
    "    \n",
    "        "
   ]
  },
  {
   "cell_type": "code",
   "execution_count": null,
   "metadata": {},
   "outputs": [],
   "source": [
    "preprocessing('tweets.txt')"
   ]
  },
  {
   "cell_type": "code",
   "execution_count": null,
   "metadata": {},
   "outputs": [],
   "source": [
    "len(user_timeline)"
   ]
  },
  {
   "cell_type": "code",
   "execution_count": null,
   "metadata": {},
   "outputs": [],
   "source": []
  }
 ],
 "metadata": {
  "kernelspec": {
   "display_name": "Python 3",
   "language": "python",
   "name": "python3"
  },
  "language_info": {
   "codemirror_mode": {
    "name": "ipython",
    "version": 3
   },
   "file_extension": ".py",
   "mimetype": "text/x-python",
   "name": "python",
   "nbconvert_exporter": "python",
   "pygments_lexer": "ipython3",
   "version": "3.4.0"
  }
 },
 "nbformat": 4,
 "nbformat_minor": 2
}
